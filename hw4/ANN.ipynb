{
 "cells": [
  {
   "cell_type": "code",
   "execution_count": 1,
   "metadata": {
    "_cell_guid": "b1076dfc-b9ad-4769-8c92-a6c4dae69d19",
    "_uuid": "8f2839f25d086af736a60e9eeb907d3b93b6e0e5",
    "execution": {
     "iopub.execute_input": "2020-12-31T14:20:57.667416Z",
     "iopub.status.busy": "2020-12-31T14:20:57.664284Z",
     "iopub.status.idle": "2020-12-31T14:20:58.405797Z",
     "shell.execute_reply": "2020-12-31T14:20:58.404648Z"
    },
    "papermill": {
     "duration": 0.766603,
     "end_time": "2020-12-31T14:20:58.405903",
     "exception": false,
     "start_time": "2020-12-31T14:20:57.639300",
     "status": "completed"
    },
    "tags": []
   },
   "outputs": [],
   "source": [
    "%matplotlib inline\n",
    "import matplotlib.pyplot as plt\n",
    "import numpy as np\n",
    "import pandas as pd\n",
    "import os\n",
    "from sklearn.utils import shuffle\n",
    "# pd.set_option('display.max_rows', None)"
   ]
  },
  {
   "cell_type": "markdown",
   "metadata": {
    "papermill": {
     "duration": 0.010081,
     "end_time": "2020-12-31T14:20:58.426955",
     "exception": false,
     "start_time": "2020-12-31T14:20:58.416874",
     "status": "completed"
    },
    "tags": []
   },
   "source": [
    "## Data Input and Suffle Data\n",
    "- read data from kaggle notebook input folder"
   ]
  },
  {
   "cell_type": "code",
   "execution_count": 2,
   "metadata": {
    "_cell_guid": "79c7e3d0-c299-4dcb-8224-4455121ee9b0",
    "_uuid": "d629ff2d2480ee46fbb7e2d37f6b5fab8052498a",
    "execution": {
     "iopub.execute_input": "2020-12-31T14:20:58.452084Z",
     "iopub.status.busy": "2020-12-31T14:20:58.451565Z",
     "iopub.status.idle": "2020-12-31T14:20:59.199392Z",
     "shell.execute_reply": "2020-12-31T14:20:59.198889Z"
    },
    "papermill": {
     "duration": 0.762415,
     "end_time": "2020-12-31T14:20:59.199501",
     "exception": false,
     "start_time": "2020-12-31T14:20:58.437086",
     "status": "completed"
    },
    "tags": []
   },
   "outputs": [],
   "source": [
    "df = pd.read_json(\"../input/recipe/train.json\")\n",
    "df = shuffle(df, random_state =52)\n",
    "df.set_index('id', inplace = True)\n",
    "df_sub = pd.read_json(\"../input/recipe/test.json\")\n",
    "# df_sub.set_index('id', inplace = True)"
   ]
  },
  {
   "cell_type": "markdown",
   "metadata": {
    "papermill": {
     "duration": 0.010264,
     "end_time": "2020-12-31T14:20:59.220626",
     "exception": false,
     "start_time": "2020-12-31T14:20:59.210362",
     "status": "completed"
    },
    "tags": []
   },
   "source": [
    "## Data Preprocessing\n",
    "1. Create a simple funtion: simplified_ingre to reduce each ingredients to only two last words, in order to eliminate the additional adj. in front of some ingredients.\n",
    "2. For each data(row) combine every one of its ingredients to a single string, so that TfidfVectorizer can correctly do the trick to exract features.\n",
    "3. Do One-Hot encoding for labels(y) so that its form can work with softmax."
   ]
  },
  {
   "cell_type": "code",
   "execution_count": 3,
   "metadata": {
    "execution": {
     "iopub.execute_input": "2020-12-31T14:20:59.273844Z",
     "iopub.status.busy": "2020-12-31T14:20:59.263526Z",
     "iopub.status.idle": "2020-12-31T14:20:59.704358Z",
     "shell.execute_reply": "2020-12-31T14:20:59.703849Z"
    },
    "papermill": {
     "duration": 0.473477,
     "end_time": "2020-12-31T14:20:59.704458",
     "exception": false,
     "start_time": "2020-12-31T14:20:59.230981",
     "status": "completed"
    },
    "tags": []
   },
   "outputs": [],
   "source": [
    "def simplified_ingre(ingre):\n",
    "    simp_ingre = []\n",
    "    for i in ingre:\n",
    "        ii = i.split(' ')\n",
    "        if len(ii) >= 2:\n",
    "            simp_ingre.append(ii[len(ii) - 2] + ' ' + ii[len(ii) - 1])\n",
    "        else:\n",
    "            simp_ingre.append(ii[0])\n",
    "    return simp_ingre\n",
    "    \n",
    "df['ingredients'] = df['ingredients'].apply(simplified_ingre)\n",
    "df_sub['ingredients'] = df_sub['ingredients'].apply(simplified_ingre)"
   ]
  },
  {
   "cell_type": "code",
   "execution_count": 4,
   "metadata": {
    "execution": {
     "iopub.execute_input": "2020-12-31T14:20:59.778751Z",
     "iopub.status.busy": "2020-12-31T14:20:59.756950Z",
     "iopub.status.idle": "2020-12-31T14:20:59.785939Z",
     "shell.execute_reply": "2020-12-31T14:20:59.785511Z"
    },
    "papermill": {
     "duration": 0.070785,
     "end_time": "2020-12-31T14:20:59.786035",
     "exception": false,
     "start_time": "2020-12-31T14:20:59.715250",
     "status": "completed"
    },
    "tags": []
   },
   "outputs": [],
   "source": [
    "df['ingredients'] = df['ingredients'].str.join(', ')\n",
    "df_sub['ingredients'] = df_sub['ingredients'].str.join(', ')"
   ]
  },
  {
   "cell_type": "code",
   "execution_count": 5,
   "metadata": {
    "execution": {
     "iopub.execute_input": "2020-12-31T14:20:59.816102Z",
     "iopub.status.busy": "2020-12-31T14:20:59.815284Z",
     "iopub.status.idle": "2020-12-31T14:20:59.820815Z",
     "shell.execute_reply": "2020-12-31T14:20:59.820388Z"
    },
    "papermill": {
     "duration": 0.024211,
     "end_time": "2020-12-31T14:20:59.820899",
     "exception": false,
     "start_time": "2020-12-31T14:20:59.796688",
     "status": "completed"
    },
    "tags": []
   },
   "outputs": [],
   "source": [
    "X = df['ingredients']\n",
    "X_sub = df_sub['ingredients']\n",
    "y = pd.get_dummies(df['cuisine'])\n",
    "# y = df['cuisine']"
   ]
  },
  {
   "cell_type": "code",
   "execution_count": 6,
   "metadata": {
    "execution": {
     "iopub.execute_input": "2020-12-31T14:20:59.846549Z",
     "iopub.status.busy": "2020-12-31T14:20:59.845975Z",
     "iopub.status.idle": "2020-12-31T14:20:59.921344Z",
     "shell.execute_reply": "2020-12-31T14:20:59.920890Z"
    },
    "papermill": {
     "duration": 0.089534,
     "end_time": "2020-12-31T14:20:59.921438",
     "exception": false,
     "start_time": "2020-12-31T14:20:59.831904",
     "status": "completed"
    },
    "tags": []
   },
   "outputs": [],
   "source": [
    "from sklearn.model_selection import train_test_split\n",
    "X_train, X_vali, y_train, y_vali = train_test_split(X, y, test_size=0.30, random_state = 52)"
   ]
  },
  {
   "cell_type": "code",
   "execution_count": 7,
   "metadata": {
    "execution": {
     "iopub.execute_input": "2020-12-31T14:20:59.947952Z",
     "iopub.status.busy": "2020-12-31T14:20:59.947294Z",
     "iopub.status.idle": "2020-12-31T14:21:01.607146Z",
     "shell.execute_reply": "2020-12-31T14:21:01.606686Z"
    },
    "papermill": {
     "duration": 1.674934,
     "end_time": "2020-12-31T14:21:01.607271",
     "exception": false,
     "start_time": "2020-12-31T14:20:59.932337",
     "status": "completed"
    },
    "tags": []
   },
   "outputs": [],
   "source": [
    "from sklearn.feature_extraction.text import TfidfVectorizer\n",
    "vectorizer = TfidfVectorizer()  \n",
    "X_train = vectorizer.fit_transform(X_train).todense()\n",
    "X_vali = vectorizer.transform(X_vali).todense()\n",
    "X_sub = vectorizer.transform(X_sub).todense()\n",
    "\n",
    "# X = vectorizer.fit_transform(X).todense()\n",
    "# X_sub = vectorizer.transform(X_sub).todense()"
   ]
  },
  {
   "cell_type": "code",
   "execution_count": 8,
   "metadata": {
    "execution": {
     "iopub.execute_input": "2020-12-31T14:21:01.636926Z",
     "iopub.status.busy": "2020-12-31T14:21:01.635798Z",
     "iopub.status.idle": "2020-12-31T14:21:01.638842Z",
     "shell.execute_reply": "2020-12-31T14:21:01.638379Z"
    },
    "papermill": {
     "duration": 0.01867,
     "end_time": "2020-12-31T14:21:01.638924",
     "exception": false,
     "start_time": "2020-12-31T14:21:01.620254",
     "status": "completed"
    },
    "tags": []
   },
   "outputs": [],
   "source": [
    "cuisine = y.columns.tolist()\n",
    "id_to_cuisine = {}\n",
    "for i in range(len(cuisine)):\n",
    "    id_to_cuisine[i] = cuisine[i]"
   ]
  },
  {
   "cell_type": "markdown",
   "metadata": {
    "papermill": {
     "duration": 0.010827,
     "end_time": "2020-12-31T14:21:01.660838",
     "exception": false,
     "start_time": "2020-12-31T14:21:01.650011",
     "status": "completed"
    },
    "tags": []
   },
   "source": [
    "## Model Construction\n",
    "- Network layer satructure: input--Dense--Dropout--Dense--Dropout--softmax\n",
    "    - After reading some examples on the internet and trying out differernt structures i choose this simple Sequential model, since more layers didn't seem to improve and only one layer well perform poorly, and the reason for dropout layer is that to have some regularization to avoid overfitting.\n",
    "- Optimizer: stochastic gradient descent\n",
    "    - My choice is SGD because I want the NN to learn quicker by updating parameters more frequency.\n",
    "- Epoch and Batch size: 100/256\n",
    "    - First I choose 50 epoch, after some experiments I observe that increase epoch will perform better but more than 100 epochs didn't seem to improve much, and batch size fewer than 256 seems to learn too fast and quickly converge then stuck, with 256 I feel like the speed is appropriate, more than 256 feel to slow for me.  "
   ]
  },
  {
   "cell_type": "code",
   "execution_count": 9,
   "metadata": {
    "execution": {
     "iopub.execute_input": "2020-12-31T14:21:01.692421Z",
     "iopub.status.busy": "2020-12-31T14:21:01.691759Z",
     "iopub.status.idle": "2020-12-31T14:21:57.907723Z",
     "shell.execute_reply": "2020-12-31T14:21:57.906813Z"
    },
    "papermill": {
     "duration": 56.235587,
     "end_time": "2020-12-31T14:21:57.907831",
     "exception": false,
     "start_time": "2020-12-31T14:21:01.672244",
     "status": "completed"
    },
    "tags": []
   },
   "outputs": [
    {
     "name": "stdout",
     "output_type": "stream",
     "text": [
      "Epoch 1/100\n",
      "82/82 [==============================] - 1s 9ms/step - loss: 2.7464 - accuracy: 0.1958 - val_loss: 2.5889 - val_accuracy: 0.2016\n",
      "Epoch 2/100\n",
      "82/82 [==============================] - 0s 5ms/step - loss: 2.5499 - accuracy: 0.2490 - val_loss: 2.5040 - val_accuracy: 0.2865\n",
      "Epoch 3/100\n",
      "82/82 [==============================] - 0s 6ms/step - loss: 2.4445 - accuracy: 0.3027 - val_loss: 2.3578 - val_accuracy: 0.3330\n",
      "Epoch 4/100\n",
      "82/82 [==============================] - 0s 5ms/step - loss: 2.2561 - accuracy: 0.3757 - val_loss: 2.1187 - val_accuracy: 0.4202\n",
      "Epoch 5/100\n",
      "82/82 [==============================] - 0s 6ms/step - loss: 2.0238 - accuracy: 0.4637 - val_loss: 1.8892 - val_accuracy: 0.5074\n",
      "Epoch 6/100\n",
      "82/82 [==============================] - 0s 5ms/step - loss: 1.8383 - accuracy: 0.5030 - val_loss: 1.7232 - val_accuracy: 0.5247\n",
      "Epoch 7/100\n",
      "82/82 [==============================] - 0s 5ms/step - loss: 1.6991 - accuracy: 0.5258 - val_loss: 1.5974 - val_accuracy: 0.5382\n",
      "Epoch 8/100\n",
      "82/82 [==============================] - 0s 5ms/step - loss: 1.5932 - accuracy: 0.5484 - val_loss: 1.4995 - val_accuracy: 0.5606\n",
      "Epoch 9/100\n",
      "82/82 [==============================] - 0s 5ms/step - loss: 1.5101 - accuracy: 0.5677 - val_loss: 1.4191 - val_accuracy: 0.5808\n",
      "Epoch 10/100\n",
      "82/82 [==============================] - 0s 5ms/step - loss: 1.4272 - accuracy: 0.5881 - val_loss: 1.3464 - val_accuracy: 0.5998\n",
      "Epoch 11/100\n",
      "82/82 [==============================] - 0s 5ms/step - loss: 1.3687 - accuracy: 0.6001 - val_loss: 1.2893 - val_accuracy: 0.6214\n",
      "Epoch 12/100\n",
      "82/82 [==============================] - 1s 8ms/step - loss: 1.3227 - accuracy: 0.6129 - val_loss: 1.2355 - val_accuracy: 0.6333\n",
      "Epoch 13/100\n",
      "82/82 [==============================] - 0s 6ms/step - loss: 1.2659 - accuracy: 0.6302 - val_loss: 1.1934 - val_accuracy: 0.6450\n",
      "Epoch 14/100\n",
      "82/82 [==============================] - 0s 5ms/step - loss: 1.2279 - accuracy: 0.6387 - val_loss: 1.1533 - val_accuracy: 0.6547\n",
      "Epoch 15/100\n",
      "82/82 [==============================] - 0s 5ms/step - loss: 1.1856 - accuracy: 0.6481 - val_loss: 1.1220 - val_accuracy: 0.6652\n",
      "Epoch 16/100\n",
      "82/82 [==============================] - 0s 5ms/step - loss: 1.1573 - accuracy: 0.6555 - val_loss: 1.0912 - val_accuracy: 0.6757\n",
      "Epoch 17/100\n",
      "82/82 [==============================] - 0s 6ms/step - loss: 1.1289 - accuracy: 0.6650 - val_loss: 1.0660 - val_accuracy: 0.6816\n",
      "Epoch 18/100\n",
      "82/82 [==============================] - 0s 5ms/step - loss: 1.0958 - accuracy: 0.6724 - val_loss: 1.0432 - val_accuracy: 0.6891\n",
      "Epoch 19/100\n",
      "82/82 [==============================] - 0s 5ms/step - loss: 1.0752 - accuracy: 0.6792 - val_loss: 1.0241 - val_accuracy: 0.6960\n",
      "Epoch 20/100\n",
      "82/82 [==============================] - 0s 5ms/step - loss: 1.0509 - accuracy: 0.6867 - val_loss: 1.0048 - val_accuracy: 0.6999\n",
      "Epoch 21/100\n",
      "82/82 [==============================] - 0s 5ms/step - loss: 1.0303 - accuracy: 0.6919 - val_loss: 0.9879 - val_accuracy: 0.7108\n",
      "Epoch 22/100\n",
      "82/82 [==============================] - 0s 5ms/step - loss: 1.0171 - accuracy: 0.6961 - val_loss: 0.9733 - val_accuracy: 0.7126\n",
      "Epoch 23/100\n",
      "82/82 [==============================] - 0s 5ms/step - loss: 0.9918 - accuracy: 0.7036 - val_loss: 0.9579 - val_accuracy: 0.7143\n",
      "Epoch 24/100\n",
      "82/82 [==============================] - 0s 5ms/step - loss: 0.9750 - accuracy: 0.7069 - val_loss: 0.9459 - val_accuracy: 0.7179\n",
      "Epoch 25/100\n",
      "82/82 [==============================] - 0s 5ms/step - loss: 0.9594 - accuracy: 0.7134 - val_loss: 0.9327 - val_accuracy: 0.7248\n",
      "Epoch 26/100\n",
      "82/82 [==============================] - 0s 5ms/step - loss: 0.9439 - accuracy: 0.7191 - val_loss: 0.9205 - val_accuracy: 0.7238\n",
      "Epoch 27/100\n",
      "82/82 [==============================] - 0s 6ms/step - loss: 0.9315 - accuracy: 0.7195 - val_loss: 0.9094 - val_accuracy: 0.7305\n",
      "Epoch 28/100\n",
      "82/82 [==============================] - 0s 5ms/step - loss: 0.9131 - accuracy: 0.7266 - val_loss: 0.8991 - val_accuracy: 0.7303\n",
      "Epoch 29/100\n",
      "82/82 [==============================] - 0s 5ms/step - loss: 0.8992 - accuracy: 0.7299 - val_loss: 0.8911 - val_accuracy: 0.7320\n",
      "Epoch 30/100\n",
      "82/82 [==============================] - 0s 5ms/step - loss: 0.8909 - accuracy: 0.7300 - val_loss: 0.8839 - val_accuracy: 0.7335\n",
      "Epoch 31/100\n",
      "82/82 [==============================] - 0s 5ms/step - loss: 0.8791 - accuracy: 0.7380 - val_loss: 0.8741 - val_accuracy: 0.7367\n",
      "Epoch 32/100\n",
      "82/82 [==============================] - 0s 5ms/step - loss: 0.8691 - accuracy: 0.7393 - val_loss: 0.8677 - val_accuracy: 0.7365\n",
      "Epoch 33/100\n",
      "82/82 [==============================] - 0s 6ms/step - loss: 0.8554 - accuracy: 0.7445 - val_loss: 0.8592 - val_accuracy: 0.7405\n",
      "Epoch 34/100\n",
      "82/82 [==============================] - 0s 5ms/step - loss: 0.8459 - accuracy: 0.7445 - val_loss: 0.8538 - val_accuracy: 0.7426\n",
      "Epoch 35/100\n",
      "82/82 [==============================] - 1s 6ms/step - loss: 0.8321 - accuracy: 0.7519 - val_loss: 0.8453 - val_accuracy: 0.7458\n",
      "Epoch 36/100\n",
      "82/82 [==============================] - 1s 7ms/step - loss: 0.8195 - accuracy: 0.7526 - val_loss: 0.8440 - val_accuracy: 0.7442\n",
      "Epoch 37/100\n",
      "82/82 [==============================] - 0s 6ms/step - loss: 0.8144 - accuracy: 0.7550 - val_loss: 0.8346 - val_accuracy: 0.7497\n",
      "Epoch 38/100\n",
      "82/82 [==============================] - 0s 5ms/step - loss: 0.7995 - accuracy: 0.7606 - val_loss: 0.8282 - val_accuracy: 0.7507\n",
      "Epoch 39/100\n",
      "82/82 [==============================] - 0s 5ms/step - loss: 0.7946 - accuracy: 0.7594 - val_loss: 0.8244 - val_accuracy: 0.7508\n",
      "Epoch 40/100\n",
      "82/82 [==============================] - 0s 6ms/step - loss: 0.7883 - accuracy: 0.7609 - val_loss: 0.8185 - val_accuracy: 0.7553\n",
      "Epoch 41/100\n",
      "82/82 [==============================] - 1s 7ms/step - loss: 0.7752 - accuracy: 0.7668 - val_loss: 0.8134 - val_accuracy: 0.7554\n",
      "Epoch 42/100\n",
      "82/82 [==============================] - 1s 7ms/step - loss: 0.7703 - accuracy: 0.7700 - val_loss: 0.8115 - val_accuracy: 0.7563\n",
      "Epoch 43/100\n",
      "82/82 [==============================] - 0s 6ms/step - loss: 0.7562 - accuracy: 0.7708 - val_loss: 0.8036 - val_accuracy: 0.7583\n",
      "Epoch 44/100\n",
      "82/82 [==============================] - 0s 5ms/step - loss: 0.7528 - accuracy: 0.7717 - val_loss: 0.7991 - val_accuracy: 0.7613\n",
      "Epoch 45/100\n",
      "82/82 [==============================] - 0s 5ms/step - loss: 0.7444 - accuracy: 0.7779 - val_loss: 0.7971 - val_accuracy: 0.7607\n",
      "Epoch 46/100\n",
      "82/82 [==============================] - 0s 6ms/step - loss: 0.7370 - accuracy: 0.7796 - val_loss: 0.7934 - val_accuracy: 0.7622\n",
      "Epoch 47/100\n",
      "82/82 [==============================] - 0s 6ms/step - loss: 0.7286 - accuracy: 0.7812 - val_loss: 0.7927 - val_accuracy: 0.7584\n",
      "Epoch 48/100\n",
      "82/82 [==============================] - 0s 6ms/step - loss: 0.7218 - accuracy: 0.7812 - val_loss: 0.7876 - val_accuracy: 0.7609\n",
      "Epoch 49/100\n",
      "82/82 [==============================] - 0s 6ms/step - loss: 0.7171 - accuracy: 0.7838 - val_loss: 0.7849 - val_accuracy: 0.7641\n",
      "Epoch 50/100\n",
      "82/82 [==============================] - 0s 6ms/step - loss: 0.7054 - accuracy: 0.7883 - val_loss: 0.7814 - val_accuracy: 0.7649\n",
      "Epoch 51/100\n",
      "82/82 [==============================] - 0s 5ms/step - loss: 0.7041 - accuracy: 0.7879 - val_loss: 0.7757 - val_accuracy: 0.7681\n",
      "Epoch 52/100\n",
      "82/82 [==============================] - 0s 6ms/step - loss: 0.7024 - accuracy: 0.7888 - val_loss: 0.7741 - val_accuracy: 0.7689\n",
      "Epoch 53/100\n",
      "82/82 [==============================] - 0s 5ms/step - loss: 0.6937 - accuracy: 0.7897 - val_loss: 0.7724 - val_accuracy: 0.7731\n",
      "Epoch 54/100\n",
      "82/82 [==============================] - 0s 5ms/step - loss: 0.6845 - accuracy: 0.7948 - val_loss: 0.7678 - val_accuracy: 0.7732\n",
      "Epoch 55/100\n",
      "82/82 [==============================] - 0s 6ms/step - loss: 0.6754 - accuracy: 0.7975 - val_loss: 0.7655 - val_accuracy: 0.7722\n",
      "Epoch 56/100\n",
      "82/82 [==============================] - 0s 6ms/step - loss: 0.6756 - accuracy: 0.7952 - val_loss: 0.7645 - val_accuracy: 0.7729\n",
      "Epoch 57/100\n",
      "82/82 [==============================] - 0s 5ms/step - loss: 0.6684 - accuracy: 0.7973 - val_loss: 0.7613 - val_accuracy: 0.7726\n",
      "Epoch 58/100\n",
      "82/82 [==============================] - 1s 7ms/step - loss: 0.6618 - accuracy: 0.8012 - val_loss: 0.7607 - val_accuracy: 0.7744\n",
      "Epoch 59/100\n",
      "82/82 [==============================] - 1s 6ms/step - loss: 0.6542 - accuracy: 0.8046 - val_loss: 0.7581 - val_accuracy: 0.7763\n",
      "Epoch 60/100\n",
      "82/82 [==============================] - 0s 6ms/step - loss: 0.6524 - accuracy: 0.8016 - val_loss: 0.7577 - val_accuracy: 0.7744\n",
      "Epoch 61/100\n",
      "82/82 [==============================] - 1s 8ms/step - loss: 0.6411 - accuracy: 0.8067 - val_loss: 0.7557 - val_accuracy: 0.7736\n",
      "Epoch 62/100\n",
      "82/82 [==============================] - 0s 6ms/step - loss: 0.6393 - accuracy: 0.8075 - val_loss: 0.7574 - val_accuracy: 0.7761\n",
      "Epoch 63/100\n",
      "82/82 [==============================] - 0s 6ms/step - loss: 0.6266 - accuracy: 0.8120 - val_loss: 0.7506 - val_accuracy: 0.7761\n",
      "Epoch 64/100\n",
      "82/82 [==============================] - 0s 6ms/step - loss: 0.6312 - accuracy: 0.8081 - val_loss: 0.7487 - val_accuracy: 0.7779\n",
      "Epoch 65/100\n",
      "82/82 [==============================] - 0s 5ms/step - loss: 0.6191 - accuracy: 0.8113 - val_loss: 0.7470 - val_accuracy: 0.7771\n",
      "Epoch 66/100\n",
      "82/82 [==============================] - 0s 6ms/step - loss: 0.6201 - accuracy: 0.8119 - val_loss: 0.7484 - val_accuracy: 0.7786\n",
      "Epoch 67/100\n",
      "82/82 [==============================] - 0s 6ms/step - loss: 0.6121 - accuracy: 0.8125 - val_loss: 0.7467 - val_accuracy: 0.7789\n",
      "Epoch 68/100\n",
      "82/82 [==============================] - 1s 6ms/step - loss: 0.6080 - accuracy: 0.8157 - val_loss: 0.7483 - val_accuracy: 0.7785\n",
      "Epoch 69/100\n",
      "82/82 [==============================] - 1s 7ms/step - loss: 0.6037 - accuracy: 0.8199 - val_loss: 0.7426 - val_accuracy: 0.7781\n",
      "Epoch 70/100\n",
      "82/82 [==============================] - 0s 6ms/step - loss: 0.5976 - accuracy: 0.8205 - val_loss: 0.7391 - val_accuracy: 0.7806\n",
      "Epoch 71/100\n",
      "82/82 [==============================] - 0s 6ms/step - loss: 0.5968 - accuracy: 0.8202 - val_loss: 0.7404 - val_accuracy: 0.7806\n",
      "Epoch 72/100\n",
      "82/82 [==============================] - 0s 5ms/step - loss: 0.5919 - accuracy: 0.8222 - val_loss: 0.7382 - val_accuracy: 0.7800\n",
      "Epoch 73/100\n",
      "82/82 [==============================] - 0s 5ms/step - loss: 0.5880 - accuracy: 0.8212 - val_loss: 0.7375 - val_accuracy: 0.7824\n",
      "Epoch 74/100\n",
      "82/82 [==============================] - 0s 5ms/step - loss: 0.5759 - accuracy: 0.8248 - val_loss: 0.7400 - val_accuracy: 0.7826\n",
      "Epoch 75/100\n",
      "82/82 [==============================] - 0s 6ms/step - loss: 0.5783 - accuracy: 0.8255 - val_loss: 0.7360 - val_accuracy: 0.7810\n",
      "Epoch 76/100\n",
      "82/82 [==============================] - 0s 5ms/step - loss: 0.5698 - accuracy: 0.8298 - val_loss: 0.7349 - val_accuracy: 0.7806\n",
      "Epoch 77/100\n",
      "82/82 [==============================] - 0s 5ms/step - loss: 0.5682 - accuracy: 0.8300 - val_loss: 0.7320 - val_accuracy: 0.7823\n",
      "Epoch 78/100\n",
      "82/82 [==============================] - 0s 5ms/step - loss: 0.5607 - accuracy: 0.8320 - val_loss: 0.7341 - val_accuracy: 0.7820\n",
      "Epoch 79/100\n",
      "82/82 [==============================] - 0s 6ms/step - loss: 0.5586 - accuracy: 0.8331 - val_loss: 0.7319 - val_accuracy: 0.7826\n",
      "Epoch 80/100\n",
      "82/82 [==============================] - 0s 6ms/step - loss: 0.5541 - accuracy: 0.8311 - val_loss: 0.7329 - val_accuracy: 0.7811\n",
      "Epoch 81/100\n",
      "82/82 [==============================] - 0s 5ms/step - loss: 0.5526 - accuracy: 0.8319 - val_loss: 0.7301 - val_accuracy: 0.7835\n",
      "Epoch 82/100\n",
      "82/82 [==============================] - 1s 7ms/step - loss: 0.5395 - accuracy: 0.8359 - val_loss: 0.7358 - val_accuracy: 0.7825\n",
      "Epoch 83/100\n",
      "82/82 [==============================] - 1s 6ms/step - loss: 0.5425 - accuracy: 0.8358 - val_loss: 0.7289 - val_accuracy: 0.7826\n",
      "Epoch 84/100\n",
      "82/82 [==============================] - 0s 5ms/step - loss: 0.5370 - accuracy: 0.8377 - val_loss: 0.7299 - val_accuracy: 0.7831\n",
      "Epoch 85/100\n",
      "82/82 [==============================] - 0s 5ms/step - loss: 0.5306 - accuracy: 0.8393 - val_loss: 0.7292 - val_accuracy: 0.7832\n",
      "Epoch 86/100\n",
      "82/82 [==============================] - 0s 6ms/step - loss: 0.5313 - accuracy: 0.8400 - val_loss: 0.7263 - val_accuracy: 0.7856\n",
      "Epoch 87/100\n",
      "82/82 [==============================] - 0s 5ms/step - loss: 0.5253 - accuracy: 0.8403 - val_loss: 0.7274 - val_accuracy: 0.7823\n",
      "Epoch 88/100\n",
      "82/82 [==============================] - 0s 5ms/step - loss: 0.5150 - accuracy: 0.8429 - val_loss: 0.7287 - val_accuracy: 0.7847\n",
      "Epoch 89/100\n",
      "82/82 [==============================] - 0s 6ms/step - loss: 0.5152 - accuracy: 0.8436 - val_loss: 0.7265 - val_accuracy: 0.7845\n",
      "Epoch 90/100\n",
      "82/82 [==============================] - 0s 5ms/step - loss: 0.5117 - accuracy: 0.8447 - val_loss: 0.7275 - val_accuracy: 0.7856\n",
      "Epoch 91/100\n",
      "82/82 [==============================] - 0s 5ms/step - loss: 0.5090 - accuracy: 0.8437 - val_loss: 0.7246 - val_accuracy: 0.7842\n",
      "Epoch 92/100\n",
      "82/82 [==============================] - 0s 6ms/step - loss: 0.5005 - accuracy: 0.8461 - val_loss: 0.7251 - val_accuracy: 0.7856\n",
      "Epoch 93/100\n",
      "82/82 [==============================] - 0s 5ms/step - loss: 0.4969 - accuracy: 0.8478 - val_loss: 0.7301 - val_accuracy: 0.7820\n",
      "Epoch 94/100\n",
      "82/82 [==============================] - 0s 5ms/step - loss: 0.4961 - accuracy: 0.8490 - val_loss: 0.7238 - val_accuracy: 0.7842\n",
      "Epoch 95/100\n",
      "82/82 [==============================] - 0s 5ms/step - loss: 0.4896 - accuracy: 0.8524 - val_loss: 0.7263 - val_accuracy: 0.7876\n",
      "Epoch 96/100\n",
      "82/82 [==============================] - 0s 5ms/step - loss: 0.4878 - accuracy: 0.8529 - val_loss: 0.7247 - val_accuracy: 0.7861\n",
      "Epoch 97/100\n",
      "82/82 [==============================] - 0s 5ms/step - loss: 0.4839 - accuracy: 0.8536 - val_loss: 0.7280 - val_accuracy: 0.7855\n",
      "Epoch 98/100\n",
      "82/82 [==============================] - 0s 5ms/step - loss: 0.4812 - accuracy: 0.8556 - val_loss: 0.7259 - val_accuracy: 0.7853\n",
      "Epoch 99/100\n",
      "82/82 [==============================] - 0s 5ms/step - loss: 0.4704 - accuracy: 0.8559 - val_loss: 0.7255 - val_accuracy: 0.7860\n",
      "Epoch 100/100\n",
      "82/82 [==============================] - 0s 5ms/step - loss: 0.4717 - accuracy: 0.8546 - val_loss: 0.7281 - val_accuracy: 0.7852\n"
     ]
    },
    {
     "data": {
      "text/plain": [
       "<tensorflow.python.keras.callbacks.History at 0x7f77d3e13bd0>"
      ]
     },
     "execution_count": 9,
     "metadata": {},
     "output_type": "execute_result"
    }
   ],
   "source": [
    "import keras\n",
    "from keras.models import Sequential\n",
    "from keras.layers import Dense, Dropout, Activation\n",
    "from keras.optimizers import SGD\n",
    "\n",
    "\n",
    "model = Sequential()\n",
    "model.add(Dense(2000, activation='relu', input_dim=X_train.shape[1]))\n",
    "# model.add(Dense(2000, activation='relu', input_dim=X.shape[1]))\n",
    "model.add(Dropout(0.5))\n",
    "model.add(Dense(200, activation='relu', input_dim=X_train.shape[1]))\n",
    "# model.add(Dense(200, activation='relu', input_dim=X.shape[1]))\n",
    "model.add(Dropout(0.4))\n",
    "model.add(Dense(y.shape[1], activation='softmax'))\n",
    "\n",
    "sgd = SGD(lr=0.01, decay=1e-6, momentum=0.9, nesterov=True)\n",
    "model.compile(loss='categorical_crossentropy',\n",
    "              optimizer=sgd,\n",
    "              metrics=['accuracy'])\n",
    "    \n",
    "model.fit(X_train, y_train, epochs=100, batch_size=256, verbose=1, validation_data=(X_vali, y_vali))\n",
    "# model.fit(X, y, epochs=100, batch_size=256, verbose=1)"
   ]
  },
  {
   "cell_type": "code",
   "execution_count": 10,
   "metadata": {
    "execution": {
     "iopub.execute_input": "2020-12-31T14:21:58.398134Z",
     "iopub.status.busy": "2020-12-31T14:21:58.397592Z",
     "iopub.status.idle": "2020-12-31T14:21:58.401869Z",
     "shell.execute_reply": "2020-12-31T14:21:58.401370Z"
    },
    "papermill": {
     "duration": 0.25544,
     "end_time": "2020-12-31T14:21:58.401976",
     "exception": false,
     "start_time": "2020-12-31T14:21:58.146536",
     "status": "completed"
    },
    "tags": []
   },
   "outputs": [],
   "source": [
    "def plot_confusion_matrix(y_true, y_pred, classes, normalize=False, title=None, cmap=plt.cm.Blues):\n",
    "    \"\"\"\n",
    "    This function prints and plots the confusion matrix.\n",
    "    Normalization can be applied by setting `normalize=True`.\n",
    "    \"\"\"\n",
    "    if not title:\n",
    "        if normalize:\n",
    "            title = 'Normalized confusion matrix'\n",
    "        else:\n",
    "            title = 'Confusion matrix, without normalization'\n",
    "\n",
    "    # Compute confusion matrix\n",
    "    cm = confusion_matrix(y_true, y_pred, labels=classes )\n",
    "    # Only use the labels that appear in the data\n",
    "    #classes = classes[unique_labels(y_true, y_pred)]\n",
    "    if normalize:\n",
    "        cm = cm.astype('float') / cm.sum(axis=1)[:, np.newaxis]\n",
    "    else:\n",
    "        pass\n",
    "\n",
    "    fig, ax = plt.subplots(figsize=(10, 10))\n",
    "    im = ax.imshow(cm, interpolation='nearest', cmap=cmap)\n",
    "    ax.figure.colorbar(im, ax=ax)\n",
    "    # We want to show all ticks...\n",
    "    ax.set(xticks=np.arange(cm.shape[1]),\n",
    "           yticks=np.arange(cm.shape[0]),\n",
    "           # ... and label them with the respective list entries\n",
    "           xticklabels=classes, yticklabels=classes,\n",
    "           title=title,\n",
    "           ylabel='True label',\n",
    "           xlabel='Predicted label')\n",
    "\n",
    "    # Rotate the tick labels and set their alignment.\n",
    "    plt.setp(ax.get_xticklabels(), rotation=45, ha=\"right\",\n",
    "             rotation_mode=\"anchor\")\n",
    "\n",
    "    # Loop over data dimensions and create text annotations.\n",
    "    fmt = '.2f' if normalize else 'd'\n",
    "    thresh = cm.max() / 2.\n",
    "    for i in range(cm.shape[0]):\n",
    "        for j in range(cm.shape[1]):\n",
    "            ax.text(j, i, format(cm[i, j], fmt),\n",
    "                    ha=\"center\", va=\"center\",\n",
    "                    color=\"white\" if cm[i, j] > thresh else \"black\")\n",
    "    fig.tight_layout()\n",
    "    return ax"
   ]
  },
  {
   "cell_type": "code",
   "execution_count": 11,
   "metadata": {
    "execution": {
     "iopub.execute_input": "2020-12-31T14:21:58.902844Z",
     "iopub.status.busy": "2020-12-31T14:21:58.901619Z",
     "iopub.status.idle": "2020-12-31T14:22:13.586146Z",
     "shell.execute_reply": "2020-12-31T14:22:13.586715Z"
    },
    "papermill": {
     "duration": 14.936936,
     "end_time": "2020-12-31T14:22:13.586840",
     "exception": false,
     "start_time": "2020-12-31T14:21:58.649904",
     "status": "completed"
    },
    "tags": []
   },
   "outputs": [],
   "source": [
    "y_pred = model.predict_classes(X_vali)\n",
    "ans = []\n",
    "for p in y_pred:\n",
    "    ans.append(id_to_cuisine[p])\n",
    "y_pred = ans\n",
    "\n",
    "ans = []\n",
    "c_all = y_vali.columns.tolist()\n",
    "for row in range(y_vali.shape[0]):\n",
    "    for i in range(len(c_all)):\n",
    "        if y_vali.iloc[row].tolist()[i] == 1:\n",
    "            ans.append(id_to_cuisine[i])\n",
    "y_true = ans"
   ]
  },
  {
   "cell_type": "markdown",
   "metadata": {
    "papermill": {
     "duration": 0.23938,
     "end_time": "2020-12-31T14:22:14.066223",
     "exception": false,
     "start_time": "2020-12-31T14:22:13.826843",
     "status": "completed"
    },
    "tags": []
   },
   "source": [
    "## Results"
   ]
  },
  {
   "cell_type": "code",
   "execution_count": 12,
   "metadata": {
    "execution": {
     "iopub.execute_input": "2020-12-31T14:22:14.550182Z",
     "iopub.status.busy": "2020-12-31T14:22:14.548321Z",
     "iopub.status.idle": "2020-12-31T14:22:16.187441Z",
     "shell.execute_reply": "2020-12-31T14:22:16.187881Z"
    },
    "papermill": {
     "duration": 1.883114,
     "end_time": "2020-12-31T14:22:16.188003",
     "exception": false,
     "start_time": "2020-12-31T14:22:14.304889",
     "status": "completed"
    },
    "tags": []
   },
   "outputs": [
    {
     "name": "stdout",
     "output_type": "stream",
     "text": [
      "              precision    recall  f1-score   support\n",
      "\n",
      "   brazilian       0.68      0.44      0.53       100\n",
      "     british       0.49      0.45      0.47       179\n",
      "cajun_creole       0.80      0.70      0.75       375\n",
      "     chinese       0.79      0.86      0.82       561\n",
      "    filipino       0.68      0.55      0.61       159\n",
      "      french       0.62      0.60      0.61       599\n",
      "       greek       0.74      0.74      0.74       248\n",
      "      indian       0.86      0.90      0.88       723\n",
      "       irish       0.67      0.41      0.51       167\n",
      "     italian       0.82      0.89      0.86      1800\n",
      "    jamaican       0.80      0.69      0.74       121\n",
      "    japanese       0.82      0.75      0.78       330\n",
      "      korean       0.86      0.74      0.79       183\n",
      "     mexican       0.88      0.94      0.91      1359\n",
      "    moroccan       0.79      0.78      0.78       174\n",
      "     russian       0.72      0.38      0.50       120\n",
      " southern_us       0.73      0.82      0.77       979\n",
      "     spanish       0.60      0.42      0.50       227\n",
      "        thai       0.76      0.78      0.77       341\n",
      "  vietnamese       0.74      0.53      0.62       188\n",
      "\n",
      "    accuracy                           0.79      8933\n",
      "   macro avg       0.74      0.67      0.70      8933\n",
      "weighted avg       0.78      0.79      0.78      8933\n",
      "\n"
     ]
    },
    {
     "data": {
      "image/png": "[encoded data removed]",
      "text/plain": [
       "<Figure size 720x720 with 2 Axes>"
      ]
     },
     "metadata": {
      "needs_background": "light"
     },
     "output_type": "display_data"
    }
   ],
   "source": [
    "from sklearn.metrics import classification_report, confusion_matrix\n",
    "print(classification_report(y_true, y_pred))\n",
    "plot_confusion_matrix(y_true, y_pred, classes=np.array(c_all), cmap=plt.cm.Blues)\n",
    "plt.show()"
   ]
  },
  {
   "cell_type": "markdown",
   "metadata": {
    "papermill": {
     "duration": 0.254811,
     "end_time": "2020-12-31T14:22:16.684521",
     "exception": false,
     "start_time": "2020-12-31T14:22:16.429710",
     "status": "completed"
    },
    "tags": []
   },
   "source": [
    "## Comparison & Conclusion\n",
    "- This is my first time trying out deep laerning stuff, its cool but i feel like there are still a lot to learn, especially regarding how to train and adjust the network, overall itis very exciting to train my first ANN, I wish I can apply and really understand how to use the knowledge learnd from class to tune the model.\n",
    "- Compare to SVM, I feel like there're still so much we can do on ANN to adjust the model and find better strucure, instead of just keep doing feature engineering and data preprocessing.\n",
    "- For the final results, SVM and ANN have similar accuracy, however, after training with all the data, ANN performed better than SVM on kaggle public leaderboard, so I choose ANN to do the prediction for kaggle competition."
   ]
  },
  {
   "cell_type": "markdown",
   "metadata": {
    "papermill": {
     "duration": 0.241457,
     "end_time": "2020-12-31T14:22:17.171543",
     "exception": false,
     "start_time": "2020-12-31T14:22:16.930086",
     "status": "completed"
    },
    "tags": []
   },
   "source": [
    "## Create output csv for kaggle submission"
   ]
  },
  {
   "cell_type": "code",
   "execution_count": 13,
   "metadata": {
    "execution": {
     "iopub.execute_input": "2020-12-31T14:22:17.661135Z",
     "iopub.status.busy": "2020-12-31T14:22:17.660116Z",
     "iopub.status.idle": "2020-12-31T14:22:18.114325Z",
     "shell.execute_reply": "2020-12-31T14:22:18.113261Z"
    },
    "papermill": {
     "duration": 0.700987,
     "end_time": "2020-12-31T14:22:18.114442",
     "exception": false,
     "start_time": "2020-12-31T14:22:17.413455",
     "status": "completed"
    },
    "tags": []
   },
   "outputs": [],
   "source": [
    "pre = model.predict_classes(X_sub)\n",
    "ans = []\n",
    "for p in pre:\n",
    "    ans.append(id_to_cuisine[p])\n",
    "\n",
    "y_sub = pd.DataFrame()\n",
    "y_sub['Id'] = df_sub['id']\n",
    "y_sub['Category'] = ans\n",
    "y_sub.to_csv('./output.csv', index=False)"
   ]
  }
 ],
 "metadata": {
  "kernelspec": {
   "display_name": "Python 3",
   "language": "python",
   "name": "python3"
  },
  "language_info": {
   "codemirror_mode": {
    "name": "ipython",
    "version": 3
   },
   "file_extension": ".py",
   "mimetype": "text/x-python",
   "name": "python",
   "nbconvert_exporter": "python",
   "pygments_lexer": "ipython3",
   "version": "3.7.4"
  },
  "papermill": {
   "duration": 85.812858,
   "end_time": "2020-12-31T14:22:19.413702",
   "environment_variables": {},
   "exception": null,
   "input_path": "__notebook__.ipynb",
   "output_path": "__notebook__.ipynb",
   "parameters": {},
   "start_time": "2020-12-31T14:20:53.600844",
   "version": "2.1.0"
  }
 },
 "nbformat": 4,
 "nbformat_minor": 4
}
